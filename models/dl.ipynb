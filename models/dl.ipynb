{
 "nbformat": 4,
 "nbformat_minor": 0,
 "metadata": {
  "colab": {
   "provenance": [],
   "gpuType": "T4"
  },
  "kernelspec": {
   "name": "python3",
   "display_name": "Python 3"
  },
  "language_info": {
   "name": "python"
  },
  "accelerator": "GPU"
 },
 "cells": [
  {
   "cell_type": "code",
   "metadata": {
    "id": "wCiT69Br4G0N",
    "jupyter": {
     "is_executing": true
    }
   },
   "source": [
    "\n",
    "\n",
    "from PIL import Image\n",
    "import os"
   ],
   "outputs": [],
   "execution_count": null
  },
  {
   "cell_type": "code",
   "source": [
    "import torch\n",
    "import torch.nn as nn\n",
    "import torch.optim as optim\n",
    "from torchvision import transforms\n",
    "import matplotlib.pyplot as plt\n"
   ],
   "metadata": {
    "id": "1O4m5dgpiUZi",
    "jupyter": {
     "is_executing": true
    }
   },
   "outputs": [],
   "execution_count": null
  },
  {
   "cell_type": "code",
   "source": [
    "#defining generator model\n",
    "class Generator(nn.Module):\n",
    "  def __init__(self):\n",
    "    super(Generator,self).__init__()\n",
    "    #calling nn module parameteralized constructor to initialize its internak state\n",
    "    self.model=nn.Sequential(\n",
    "        #creating 2d convulation with 1 input channel and 64 output channels(64 filters)\n",
    "        nn.Conv2d(1,64,kernel_size=3,stride=1,padding=1),\n",
    "        nn.LeakyReLU(0.2),\n",
    "        nn.BatchNorm2d(64),\n",
    "        nn.Conv2d(64,128,kernel_size=3,stride=2,padding=1),\n",
    "        nn.LeakyReLU(0.2),\n",
    "        nn.BatchNorm2d(128),\n",
    "        nn.Conv2d(256,512,kernel_size=3,stride=2,padding=1),\n",
    "        nn.LeakyReLU(0.2),\n",
    "        nn.BatchNorm2d(512),\n",
    "        nn.ConvTranspose2d(512, 256, kernel_size=3, stride=2, padding=1, output_padding=1),\n",
    "        nn.LeakyReLU(0.2),\n",
    "        nn.BatchNorm2d(256),\n",
    "        nn.ConvTranspose2d(256, 128, kernel_size=3, stride=2, padding=1, output_padding=1),\n",
    "        nn.LeakyReLU(0.2),\n",
    "        nn.BatchNorm2d(128),\n",
    "        nn.ConvTranspose2d(128, 64, kernel_size=3, stride=2, padding=1, output_padding=1),\n",
    "        nn.LeakyReLU(0.2),\n",
    "        nn.BatchNorm2d(64),\n",
    "        nn.Conv2d(64, 3, kernel_size=3, stride=1, padding=1),\n",
    "        nn.Tanh()\n",
    "    )\n",
    "  def forward(self,x):\n",
    "    return self.model(x)"
   ],
   "metadata": {
    "id": "nXQ9P6zii1lm"
   },
   "execution_count": 12,
   "outputs": []
  },
  {
   "cell_type": "code",
   "source": [
    "class Discriminator(nn.Module):\n",
    "  def __init__(self):\n",
    "    super(Discriminator,self).__init__()\n",
    "    self.model=nn.Sequential(\n",
    "      nn.Conv2d(3,64,kernel_size=3,stride=2,padding=1),\n",
    "      nn.LeakyReLU(0.2),\n",
    "      nn.Dropout(0.25),\n",
    "      #randomly drop 25% neurons to avoid overfitting\n",
    "      nn.Conv2d(64,128,kernel_size=3,stride=2,padding=1),\n",
    "      nn.BatchNorm2d(128),\n",
    "      nn.Dropout(0.25),\n",
    "\n",
    "      nn.Conv2d(128, 256, kernel_size=3, stride=2, padding=1),\n",
    "      nn.LeakyReLU(0.2),\n",
    "       nn.BatchNorm2d(256),\n",
    "     nn.Dropout(0.25),\n",
    "\n",
    "     nn.Conv2d(256, 512, kernel_size=3, stride=2, padding=1),\n",
    "     nn.LeakyReLU(0.2),\n",
    "     nn.BatchNorm2d(512),\n",
    "     nn.Dropout(0.25),\n",
    "\n",
    "     nn.Flatten(),\n",
    "     nn.Linear(512 * 16 * 16, 1),\n",
    "     nn.Sigmoid()\n",
    "\n",
    "      #flattening to convert the multidimensional tensor\n",
    "      #to single dimensional tensor so that it can be taken as input for classification task done by neural descriminator\n",
    "\n",
    "\n",
    "\n",
    "    )\n",
    "  def forward(self,x):\n",
    "    return self.model(x)"
   ],
   "metadata": {
    "id": "Izg6qXvL_nS-"
   },
   "execution_count": 13,
   "outputs": []
  },
  {
   "cell_type": "code",
   "source": [
    "#defining loss functions and optimizers\n",
    "criterion = nn.BCELoss()\n",
    "\n",
    "def get_optimizer(model, lr=0.0002, beta1=0.5):\n",
    "    return optim.Adam(model.parameters(), lr=lr, betas=(beta1, 0.999))\n",
    "#loss function is Binary cross entropy loss and optimizer is Adam\n",
    "def load_image(image_path, target_size=(256, 256)):\n",
    "    image = Image.open(image_path).convert('RGB')\n",
    "    image = image.resize(target_size)\n",
    "    image = np.array(image) / 127.5 - 1.0  # Normalize to [-1, 1]\n",
    "    return torch.tensor(image, dtype=torch.float).permute(2, 0, 1).unsqueeze(0)\n",
    "\n",
    "def load_data(sar_dir, optical_dir):\n",
    "    sar_images = []\n",
    "    optical_images = []\n",
    "\n",
    "    for filename in os.listdir(sar_dir):\n",
    "        sar_image = load_image(os.path.join(sar_dir, filename), target_size=(256, 256))\n",
    "        optical_image = load_image(os.path.join(optical_dir, filename), target_size=(256, 256))\n",
    "\n",
    "        sar_images.append(sar_image[:, 0:1])  # Grayscale\n",
    "        optical_images.append(optical_image)\n",
    "\n",
    "    return torch.cat(sar_images), torch.cat(optical_images)\n",
    "\n"
   ],
   "metadata": {
    "id": "BzFwCamxUi_w"
   },
   "execution_count": 14,
   "outputs": []
  }
 ]
}
